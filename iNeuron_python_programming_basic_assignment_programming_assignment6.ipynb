{
 "cells": [
  {
   "cell_type": "markdown",
   "id": "54251493",
   "metadata": {},
   "source": [
    "1.\tWrite a Python Program to Display Fibonacci Sequence Using Recursion?"
   ]
  },
  {
   "cell_type": "code",
   "execution_count": 1,
   "id": "dd66de92",
   "metadata": {},
   "outputs": [
    {
     "name": "stdout",
     "output_type": "stream",
     "text": [
      "How many numbers do you want ? 5\n",
      "Fibonacci series:\n",
      "0\n",
      "1\n",
      "1\n",
      "2\n",
      "3\n"
     ]
    }
   ],
   "source": [
    "def gen_fibonacci(n):\n",
    "    if n <= 1:\n",
    "        return n\n",
    "    else:\n",
    "        return (gen_fibonacci(n - 1) + gen_fibonacci(n - 2))\n",
    "\n",
    "\n",
    "nums = int(input(\"How many numbers do you want ? \"))\n",
    "\n",
    "if nums <= 0:\n",
    "    print(\"Invalid input ! Please input a positive value\")\n",
    "else:\n",
    "    print(\"Fibonacci series:\")\n",
    "    for i in range(nums):\n",
    "        print(gen_fibonacci(i))"
   ]
  },
  {
   "cell_type": "markdown",
   "id": "41aab528",
   "metadata": {},
   "source": [
    "2.\tWrite a Python Program to Find Factorial of Number Using Recursion?"
   ]
  },
  {
   "cell_type": "code",
   "execution_count": 4,
   "id": "a69cb8e7",
   "metadata": {},
   "outputs": [
    {
     "name": "stdout",
     "output_type": "stream",
     "text": [
      "Enter a number: 5\n",
      "The factorial of 5 is 120\n"
     ]
    }
   ],
   "source": [
    "def factorial(x):\n",
    "    if x == 1:\n",
    "        return 1\n",
    "    else:\n",
    "         return (x * factorial(x-1))\n",
    "\n",
    "num = int(input(\"Enter a number: \"))\n",
    "print(\"The factorial of\", num, \"is\", factorial(num))"
   ]
  },
  {
   "cell_type": "markdown",
   "id": "206700a0",
   "metadata": {},
   "source": [
    "3.\tWrite a Python Program to calculate your Body Mass Index?"
   ]
  },
  {
   "cell_type": "code",
   "execution_count": 5,
   "id": "d6d29baa",
   "metadata": {},
   "outputs": [
    {
     "name": "stdout",
     "output_type": "stream",
     "text": [
      "Enter your height in centimeters: 200\n",
      "Enter your weight in kgs: 80\n",
      "Your BMI is 20.0\n",
      "You have normal weight.\n"
     ]
    }
   ],
   "source": [
    "h = int(input(\"Enter your height in centimeters: \"))\n",
    "H = h / 100\n",
    "w = int(input(\"Enter your weight in kgs: \"))\n",
    "bmi = (w / (H*H)).__round__(2)\n",
    "print(f\"Your BMI is {bmi}\")\n",
    "if bmi < 18.5:\n",
    "    print(\"You are Underweight.\")\n",
    "elif bmi >= 18.5 and bmi < 25:\n",
    "    print(\"You have normal weight.\")\n",
    "elif bmi >= 25 and bmi < 30:\n",
    "    print(\"You are overweight.\")\n",
    "else:\n",
    "    print(\"You are Obese.\")"
   ]
  },
  {
   "cell_type": "markdown",
   "id": "dfb2d834",
   "metadata": {},
   "source": [
    "4.\tWrite a Python Program to calculate the natural logarithm of any number?"
   ]
  },
  {
   "cell_type": "code",
   "execution_count": 7,
   "id": "14d9254f",
   "metadata": {},
   "outputs": [
    {
     "name": "stdout",
     "output_type": "stream",
     "text": [
      "Enter the number for natural log: 3.77\n",
      "The natural log of 3.77 is 1.3270750014599193 \n"
     ]
    }
   ],
   "source": [
    "import math as m\n",
    "num = float(input(\"Enter the number for natural log: \"))\n",
    "lg = m.log(num,m.e)\n",
    "print(f\"The natural log of {num} is {lg} \")"
   ]
  },
  {
   "cell_type": "markdown",
   "id": "af1fffab",
   "metadata": {},
   "source": [
    "5.\tWrite a Python Program for cube sum of first n natural numbers?"
   ]
  },
  {
   "cell_type": "code",
   "execution_count": 9,
   "id": "990bfdb2",
   "metadata": {},
   "outputs": [
    {
     "name": "stdout",
     "output_type": "stream",
     "text": [
      "Find the sum of the cubes of first n natural numbers\n",
      "Enter the number: 12\n",
      "The cube of first 12 natural numbers is 6084\n"
     ]
    }
   ],
   "source": [
    "print(\"Find the sum of the cubes of first n natural numbers\")\n",
    "nums = int(input(\"Enter the number: \"))\n",
    "s = 0\n",
    "for i in range(1,nums+1):\n",
    "    s = s + i**3\n",
    "print(f\"The cube of first {nums} natural numbers is {s}\")"
   ]
  },
  {
   "cell_type": "code",
   "execution_count": null,
   "id": "d4239e24",
   "metadata": {},
   "outputs": [],
   "source": []
  }
 ],
 "metadata": {
  "kernelspec": {
   "display_name": "Python 3",
   "language": "python",
   "name": "python3"
  },
  "language_info": {
   "codemirror_mode": {
    "name": "ipython",
    "version": 3
   },
   "file_extension": ".py",
   "mimetype": "text/x-python",
   "name": "python",
   "nbconvert_exporter": "python",
   "pygments_lexer": "ipython3",
   "version": "3.8.10"
  }
 },
 "nbformat": 4,
 "nbformat_minor": 5
}
